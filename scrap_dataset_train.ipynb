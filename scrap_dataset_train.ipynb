{
 "cells": [
  {
   "cell_type": "code",
   "execution_count": 1,
   "metadata": {},
   "outputs": [],
   "source": [
    "from bs4 import BeautifulSoup\n",
    "import requests\n",
    "import random\n",
    "from tqdm import tqdm\n",
    "\n",
    "MAIN_KEYS = [\"A\", \"Ab\", \"B\", \"Bb\", \"C\", \"C#\", \"D\", \"E\", \"Eb\", \"F\", \"F#\", \"G\", \"Gb\"]\n",
    "\n",
    "def get_random_key():\n",
    "    return MAIN_KEYS[random.randint(0, len(MAIN_KEYS)-1)]\n",
    "\n",
    "def get_random_tab(key=\"C\", measures=8):\n",
    "    url = \"https://www.asciitabs.com/random\"\n",
    "    params = {\n",
    "        \"instrument\": \"guitar\",\n",
    "        \"measures\": measures,\n",
    "        \"allow-open-strings\": \"false\",\n",
    "        \"single-notes-only\": \"false\",\n",
    "        \"key\":key,\n",
    "        \"maxfret\":'16'\n",
    "    }\n",
    "    response = requests.request(\"GET\", url, params=params)\n",
    "    return response.text\n",
    "\n",
    "\n",
    "def transform_ascii_tab(ascii_tab: str) -> str:\n",
    "    # Split the input into lines\n",
    "    lines = ascii_tab.split('\\n')\n",
    "    # Dictionary to hold each string's notes\n",
    "    strings = {'e': [], 'B': [], 'G': [], 'D': [], 'A': [], 'E': []}\n",
    "    \n",
    "    # Populate each list with the corresponding notes from the ASCII tab\n",
    "    for line in lines:\n",
    "        if line.strip():\n",
    "            string_key = line[0]\n",
    "            if string_key in strings:\n",
    "                strings[string_key].append(line[2:])\n",
    "    # Combine the strings into a single one-line tab\n",
    "    one_line_tab = '\\n'.join(f\"{key}|{''.join(value)}\" for key, value in strings.items())\n",
    "    \n",
    "    return one_line_tab\n",
    "\n",
    "\n",
    "def extract_tab_from_html(html_str:str):\n",
    "    # Parse the HTML content\n",
    "    soup = BeautifulSoup(html_str, 'html.parser')\n",
    "    # Find the tab container\n",
    "    tab_container = soup.find('div', class_='tab-container')\n",
    "    # Extract text from the tab container and replace span tags with their content\n",
    "    for span in tab_container.find_all('span'):\n",
    "        span.replace_with(span.text.strip())\n",
    "    # Get the cleaned text\n",
    "    guitar_tab = '\\n'.join([line.strip() for line in tab_container.text.split('\\n')])\n",
    "    \n",
    "    guitar_tab = transform_ascii_tab(guitar_tab)\n",
    "    \n",
    "    return guitar_tab\n",
    "\n",
    "def generate_random_tab(key=None, measures=8):\n",
    "    if key==None:\n",
    "        key=get_random_key()\n",
    "    html_tab = get_random_tab(measures=measures, key=key)\n",
    "    tab = extract_tab_from_html(html_tab)\n",
    "    return tab\n"
   ]
  },
  {
   "cell_type": "code",
   "execution_count": 35,
   "metadata": {},
   "outputs": [
    {
     "name": "stdout",
     "output_type": "stream",
     "text": [
      "e|-----------------|---------------|---------------|--------5-------|\n",
      "B|------5----------|-----1--3------|-----8---------|--------12--13--|\n",
      "G|---------10------|---------------|--9-----16-----|--2--9----------|\n",
      "D|--12---------14--|-----------14--|---------------|--------14------|\n",
      "A|--5------7-------|---------------|---------------|-----2----------|\n",
      "E|---------3-------|--3-----3------|---------------|--------13------|\n"
     ]
    }
   ],
   "source": [
    "print(generate_random_tab(\"C\", measures=4))\n"
   ]
  },
  {
   "cell_type": "code",
   "execution_count": 55,
   "metadata": {},
   "outputs": [],
   "source": [
    "def str_table_to_tab(table:str):\n",
    "    # Split the input into lines\n",
    "    lines = table.strip().split('\\n')\n",
    "    \n",
    "    \n",
    "    lines = [l.split(\"|\")[1:-1] for l in lines]\n",
    "    # Initialize an array to hold the beats\n",
    "    beats = []\n",
    "    for i in range(len(lines[0])):\n",
    "        beat=[]\n",
    "        for j in range(6):\n",
    "            beat.append(lines[j][i])\n",
    "        beats.append(beat)\n",
    "    \n",
    "    return beats\n",
    "    \n",
    "def tab_to_str(t, add_string_keys=True):\n",
    "    tab = \"\"\n",
    "    keys = ['e', 'B', 'G' , 'D' ,'A' , 'E']\n",
    "    for i in range(6):\n",
    "        if add_string_keys:\n",
    "            tab+=keys[i] + \"|\"\n",
    "        for j in range(len(t)):\n",
    "            tab += t[j][i] + \"|\"\n",
    "        tab += \"\\n\"\n",
    "    return tab\n",
    "\n",
    "\n",
    "SYSTEM_PROMPT = \"\"\"\n",
    "You are a skilled guitar instructor and music theory expert. Generate the next four beats of a guitar tab based on the user's input.\n",
    "\n",
    "1. Review the first four beats and key provided by the user.\n",
    "2. Generate the next four beats that fit the specified key.\n",
    "\"\"\"\n",
    "\n",
    "USER_PROMPT = \"\"\"\n",
    "Key: {key}\n",
    "\n",
    "Tab: {tab}\n",
    "\"\"\"\n",
    "\n",
    "\n",
    "\n",
    "def generate_messages(key:str, table:str):\n",
    "    messages = []\n",
    "    \n",
    "    tab = str_table_to_tab(table)\n",
    "    \n",
    "    user_tab = tab_to_str(tab[:int(len(tab)/2)], add_string_keys=True)\n",
    "    assistant_tab = tab_to_str(tab[int(len(tab)/2):], add_string_keys=True)\n",
    "    \n",
    "    messages.append({\n",
    "        \"role\": \"system\",\n",
    "        \"content\": SYSTEM_PROMPT\n",
    "    })\n",
    "    \n",
    "    user_prompt = USER_PROMPT.format(key=key, tab=user_tab)\n",
    "    messages.append({\n",
    "        \"role\": \"user\",\n",
    "        \"content\": user_prompt\n",
    "    })\n",
    "    \n",
    "    messages.append({\n",
    "        \"role\": \"assistant\",\n",
    "        \"content\": assistant_tab\n",
    "    })\n",
    "    \n",
    "    return messages\n",
    "    \n",
    "    \n",
    "def generare_dataset(ds_len:int):\n",
    "    messages_list = []\n",
    "    for _ in tqdm(range(ds_len)):\n",
    "        key = get_random_key()\n",
    "        tab = generate_random_tab(key=key)\n",
    "        messages_list.append(generate_messages(key, tab))\n",
    "    return messages_list"
   ]
  },
  {
   "cell_type": "code",
   "execution_count": 4,
   "metadata": {},
   "outputs": [
    {
     "name": "stderr",
     "output_type": "stream",
     "text": [
      "100%|██████████| 1/1 [00:00<00:00,  2.12it/s]\n"
     ]
    },
    {
     "data": {
      "text/plain": [
       "[[{'role': 'system',\n",
       "   'content': \"\\nYou are a skilled guitar instructor and music theory expert. Generate the next four beats of a guitar tab based on the user's input.\\n\\n1. Review the first four beats and key provided by the user.\\n2. Generate the next four beats that fit the specified key.\\n\"},\n",
       "  {'role': 'user',\n",
       "   'content': '\\nKey: C#\\n\\nTab: e|-------------2--|----------------|------------4---|--9----------12--|\\nB|------9---------|------5-----14--|--4-----2---12--|------12-----10--|\\nG|----------------|--13------------|----------------|--9--------------|\\nD|----------------|------------6---|-----2--9-------|--16--9----------|\\nA|---------14-----|--9---4---------|--0---------14--|--12------9------|\\nE|--16------------|--11------------|--------11------|--11--4------16--|\\n\\n'},\n",
       "  {'role': 'assistant',\n",
       "   'content': 'e|----------------|--7-------------|------7---14-----|-----12--7---7---|\\nB|--12---------9--|--14--5-----16--|--2--------------|---------10------|\\nG|----------1--2--|----------------|------13---------|-----6-----------|\\nD|--13------7-----|------7---------|----------1---9--|---------16------|\\nA|------12--------|----------------|--14------7---9--|-------------16--|\\nE|----------------|------4-----0---|------5-------9--|--5--14----------|\\n'}]]"
      ]
     },
     "execution_count": 4,
     "metadata": {},
     "output_type": "execute_result"
    }
   ],
   "source": [
    "generare_dataset(1)"
   ]
  },
  {
   "cell_type": "code",
   "execution_count": 59,
   "metadata": {},
   "outputs": [
    {
     "name": "stdout",
     "output_type": "stream",
     "text": [
      "[{'role': 'system', 'content': \"\\nYou are a skilled guitar instructor and music theory expert. Generate the next four beats of a guitar tab based on the user's input.\\n\\n1. Review the first four beats and key provided by the user.\\n2. Generate the next four beats that fit the specified key.\\n\"}, {'role': 'user', 'content': '\\nKey: E\\n\\nTab: e|---------------|--14------------|--------------|--0---------7---|\\nB|---------------|--9---2--9--12--|-----9--------|----------------|\\nG|--2---------2--|------------16--|--------------|--9-------------|\\nD|-----9------4--|--4------1------|--------------|--9-----13--14--|\\nA|---------------|------9-----14--|-----0--------|--9---------12--|\\nE|--------11-----|----------------|--------7--5--|-----4----------|\\n\\n'}, {'role': 'assistant', 'content': 'e|--7---12---------|-----7--16------|------------------|------2--------|\\nB|----------16-----|------------10--|------16----------|--16--9--------|\\nG|-----------------|-----9------13--|--16------9---11--|---------8-----|\\nD|--13--1----------|--9--1----------|----------14--4---|---------1-----|\\nA|--4--------------|--6-----16------|--11------4-------|---------------|\\nE|-----------------|--9-------------|--0---5-----------|--16--2--------|\\n'}]\n",
      "[{'role': 'system', 'content': \"\\nYou are a skilled guitar instructor and music theory expert. Generate the next four beats of a guitar tab based on the user's input.\\n\\n1. Review the first four beats and key provided by the user.\\n2. Generate the next four beats that fit the specified key.\\n\"}, {'role': 'user', 'content': '\\nKey: E\\n\\nTab: e|------------------|---------------|--12--11---------|----------------|\\nB|----------7-------|--4--9---------|--14--10------0--|----------------|\\nG|------2---2-------|---------------|------16--13--1--|----------------|\\nD|------14--11--11--|--------14-----|--11--4----------|--------16------|\\nA|------9-----------|---------------|-----------------|-----2--4---16--|\\nE|--16--------------|--------9------|-----------------|----------------|\\n\\n'}, {'role': 'assistant', 'content': 'e|-----11----------|--2------------|---------12-----|--7----------9---|\\nB|-------------0---|---------------|----------------|--10--12--4------|\\nG|---------9-------|--------8--14--|------4--9---8--|----------9--14--|\\nD|-----------------|---------------|--16-----16-----|------6----------|\\nA|-----------------|---------------|----------------|----------6--4---|\\nE|---------16--11--|--4------------|----------------|--2--------------|\\n'}]\n",
      "[{'role': 'system', 'content': \"\\nYou are a skilled guitar instructor and music theory expert. Generate the next four beats of a guitar tab based on the user's input.\\n\\n1. Review the first four beats and key provided by the user.\\n2. Generate the next four beats that fit the specified key.\\n\"}, {'role': 'user', 'content': '\\nKey: E\\n\\nTab: e|--2-------------|--5------------|--11--------11--|----------2------|\\nB|--0-------------|--2------4-----|---------5------|--------------7--|\\nG|----------------|--14--------2--|------8---------|--14------13-----|\\nD|---------2------|--6------------|----------------|------13--1------|\\nA|--2--14---------|------2--------|----------------|-----------------|\\nE|---------14--5--|--7------------|----------------|----------2---7--|\\n\\n'}, {'role': 'assistant', 'content': 'e|--12--------9--|--------0-------|---------9------|--5----------7--|\\nB|------------9--|-----7----------|-----7------10--|-----9----------|\\nG|--1------4-----|----------------|------------4---|---------11-----|\\nD|--11-----------|------------16--|------------7---|----------------|\\nA|---------------|--4-------------|--6-------------|--6--14---------|\\nE|--5------------|--------12--9---|-----16-----12--|-------------7--|\\n'}]\n",
      "[{'role': 'system', 'content': \"\\nYou are a skilled guitar instructor and music theory expert. Generate the next four beats of a guitar tab based on the user's input.\\n\\n1. Review the first four beats and key provided by the user.\\n2. Generate the next four beats that fit the specified key.\\n\"}, {'role': 'user', 'content': '\\nKey: E\\n\\nTab: e|-------------12--|-------------11--|-------------14--|----------------|\\nB|--10--5----------|--10-----16--9---|-----16------12--|----------------|\\nG|---------11------|--1--------------|---------9-------|------------16--|\\nD|--7----------14--|-----------------|-----9-----------|--------1-------|\\nA|---------6-------|--14-------------|--0--11--14------|--4-----12--11--|\\nE|--9--------------|-----------------|-----11------11--|----------------|\\n\\n'}, {'role': 'assistant', 'content': 'e|---------9--16--|--12--------------|---------4------|-----11-----16--|\\nB|----------------|--9-------5-------|------0-----10--|-----12---------|\\nG|-----16---------|--1---------------|---------6------|----------------|\\nD|----------------|------16--11------|--6-------------|--7--6----------|\\nA|----------------|--------------14--|----------------|---------6------|\\nE|------------5---|------0-----------|--11-----0------|----------------|\\n'}]\n",
      "[{'role': 'system', 'content': \"\\nYou are a skilled guitar instructor and music theory expert. Generate the next four beats of a guitar tab based on the user's input.\\n\\n1. Review the first four beats and key provided by the user.\\n2. Generate the next four beats that fit the specified key.\\n\"}, {'role': 'user', 'content': '\\nKey: E\\n\\nTab: e|--2---4----------|-----5-------0---|--12--14--4---9--|--------16--5--|\\nB|-------------16--|--4--5---14--0---|----------7------|--9--4--4---5--|\\nG|--16--2--8-------|-----8---16--9---|--6-----------4--|---------------|\\nD|---------13------|-------------11--|------2-------1--|--------4------|\\nA|------4------14--|--0--14--2-------|----------12-----|---------------|\\nE|---------7-------|-----------------|-----------------|---------------|\\n\\n'}, {'role': 'assistant', 'content': 'e|--------------|-----------------|-------------12--|--14-----4---16--|\\nB|--5--------7--|--16--12------7--|-------------7---|------5------9---|\\nG|-----8-----1--|--14-------------|--8------11------|------4----------|\\nD|--------------|------6----------|--6--13------13--|-------------2---|\\nA|--0--------0--|------7----------|-----------------|--16-------------|\\nE|--7--------5--|----------12-----|---------16------|--5------16------|\\n'}]\n",
      "[{'role': 'system', 'content': \"\\nYou are a skilled guitar instructor and music theory expert. Generate the next four beats of a guitar tab based on the user's input.\\n\\n1. Review the first four beats and key provided by the user.\\n2. Generate the next four beats that fit the specified key.\\n\"}, {'role': 'user', 'content': '\\nKey: E\\n\\nTab: e|----------------|--0---2---------|--2------------|------------16--|\\nB|------9---------|------------5---|--5------------|----------------|\\nG|--6---------14--|---------2------|---------6-----|--8-------------|\\nD|----------------|---------7------|---------------|----------------|\\nA|------6---------|------------12--|---------7-----|-----2------12--|\\nE|--11--5---------|--11--5---------|--16--4--------|--4--14-----4---|\\n\\n'}, {'role': 'assistant', 'content': 'e|---------14-----|--14---------11--|-----------------|--2-----2---16--|\\nB|----------------|-------------9---|--10-------------|------------4---|\\nG|-----11--14-----|---------11------|--8-------16-----|------------1---|\\nD|----------------|-----------------|-----------------|----------------|\\nA|-----6----------|-----------------|--14--6---7------|--9-----12------|\\nE|--9-------------|-------------11--|------14------4--|------------12--|\\n'}]\n",
      "[{'role': 'system', 'content': \"\\nYou are a skilled guitar instructor and music theory expert. Generate the next four beats of a guitar tab based on the user's input.\\n\\n1. Review the first four beats and key provided by the user.\\n2. Generate the next four beats that fit the specified key.\\n\"}, {'role': 'user', 'content': '\\nKey: E\\n\\nTab: e|--16--7--------|--7-------------|----------------|------------5---|\\nB|---------------|----------------|---------10-----|----------------|\\nG|--13-----------|------9---------|----------------|--9-----14------|\\nD|---------9-----|-------------9--|----------------|-----1------13--|\\nA|------------9--|--14------------|--14---------6--|--------14------|\\nE|--7---7--------|--5---2--11-----|--5------16--0--|------------9---|\\n\\n'}, {'role': 'assistant', 'content': 'e|--------------11--|---------9------|------0--11------|--7-----11------|\\nB|--14--------------|--7-------------|-------------12--|-----4------5---|\\nG|------------------|----------------|-----------------|--4-------------|\\nD|----------14------|--2------9------|-----------------|------------1---|\\nA|--6---16------4---|-----12--12-----|--12-----6---9---|----------------|\\nE|------------------|-----0---2------|-----------------|------------16--|\\n'}]\n",
      "[{'role': 'system', 'content': \"\\nYou are a skilled guitar instructor and music theory expert. Generate the next four beats of a guitar tab based on the user's input.\\n\\n1. Review the first four beats and key provided by the user.\\n2. Generate the next four beats that fit the specified key.\\n\"}, {'role': 'user', 'content': '\\nKey: E\\n\\nTab: e|--9---------7--|-----------------|---------11------|--0-----5------|\\nB|------9--------|--7----------16--|------7--9-------|---------------|\\nG|------------2--|-----------------|--8----------1---|---------------|\\nD|--7------------|------13-----6---|--11-------------|-----1---------|\\nA|------------7--|--11--9----------|--6--------------|---------------|\\nE|--11-----------|------9----------|-------------14--|-----0--16-----|\\n\\n'}, {'role': 'assistant', 'content': 'e|--14--0------0--|---------------|---------------|--16--------7--|\\nB|------2---------|-----9---------|-----9---------|--0------------|\\nG|------13--4--2--|--------14-----|-----6-----8---|---------6-----|\\nD|------9---4-----|---------------|-----------13--|---------4-----|\\nA|--16------------|---------------|--------9------|------7--------|\\nE|----------------|---------------|--------2------|---------------|\\n'}]\n",
      "[{'role': 'system', 'content': \"\\nYou are a skilled guitar instructor and music theory expert. Generate the next four beats of a guitar tab based on the user's input.\\n\\n1. Review the first four beats and key provided by the user.\\n2. Generate the next four beats that fit the specified key.\\n\"}, {'role': 'user', 'content': '\\nKey: E\\n\\nTab: e|----------12--11--|-----5------4--|--9--------------|---------------|\\nB|------------------|---------9-----|--10-------------|---------------|\\nG|----------4-------|---------------|----------1------|--8-----11-----|\\nD|------16----------|---------------|--14-------------|------------7--|\\nA|------------------|-----11--------|--6-------14-----|---------------|\\nE|--11--0-------0---|---------------|--2---11---------|---------------|\\n\\n'}, {'role': 'assistant', 'content': 'e|-------------14--|---------4------|--9--4--------|-----12--2-----|\\nB|----------5--7---|----------------|--------------|------------0--|\\nG|--2---2------6---|------1---------|--------------|--4------9-----|\\nD|--2---6----------|--6-------------|-----2--4-----|--7------------|\\nA|------16---------|----------------|--------2--0--|---------4--4--|\\nE|--12-------------|--14-----16--0--|-----9--------|---------2--2--|\\n'}]\n",
      "[{'role': 'system', 'content': \"\\nYou are a skilled guitar instructor and music theory expert. Generate the next four beats of a guitar tab based on the user's input.\\n\\n1. Review the first four beats and key provided by the user.\\n2. Generate the next four beats that fit the specified key.\\n\"}, {'role': 'user', 'content': '\\nKey: E\\n\\nTab: e|------------11--|-----9-------7---|--16--5----------|--4------14--14--|\\nB|----------------|-----0---12------|--16--7----------|-----14------16--|\\nG|------------16--|-----13------8---|--16---------11--|-----------------|\\nD|-----9------14--|-----------------|---------16------|-----4---4-------|\\nA|--0-------------|--2--0-------11--|-------------12--|-----11------16--|\\nE|--------11------|-----------------|--0------2-------|-------------0---|\\n\\n'}, {'role': 'assistant', 'content': 'e|----------------|-------------16--|-----------------|--7-------------|\\nB|--16---------5--|---------12------|------2---2------|----------------|\\nG|--4------13--1--|---------13------|-----------------|--------13--13--|\\nD|--9-------------|-----11----------|--14--13--2------|-----7----------|\\nA|--7-------------|--2--------------|----------12-----|----------------|\\nE|---------4---5--|---------11------|--------------2--|--9-------------|\\n'}]\n",
      "[{'role': 'system', 'content': \"\\nYou are a skilled guitar instructor and music theory expert. Generate the next four beats of a guitar tab based on the user's input.\\n\\n1. Review the first four beats and key provided by the user.\\n2. Generate the next four beats that fit the specified key.\\n\"}, {'role': 'user', 'content': '\\nKey: E\\n\\nTab: e|---------------|--0--------------|--12------------|----------------|\\nB|--------4------|------9----------|----------------|---------16-----|\\nG|--9-----14-----|------11---------|------9---------|-----16--9------|\\nD|------------1--|--11------11-----|--4---1--1------|-------------1--|\\nA|-----7---------|------0----------|----------------|-----11--11-----|\\nE|-----0--11-----|--14-------------|--14--------12--|----------------|\\n\\n'}, {'role': 'assistant', 'content': 'e|----------------|---------------|--11--5--2------|-----2----------|\\nB|----------------|---------------|--7---------12--|-----10--2------|\\nG|--------1-------|-----16--------|--1-------------|---------4--1---|\\nD|--------11--11--|---------------|--13--------13--|----------------|\\nA|--------6-------|---------2-----|--6---------9---|--6--4------14--|\\nE|----------------|--2---------7--|----------------|----------------|\\n'}]\n",
      "[{'role': 'system', 'content': \"\\nYou are a skilled guitar instructor and music theory expert. Generate the next four beats of a guitar tab based on the user's input.\\n\\n1. Review the first four beats and key provided by the user.\\n2. Generate the next four beats that fit the specified key.\\n\"}, {'role': 'user', 'content': '\\nKey: E\\n\\nTab: e|--11------11------|----------------|---------------|--7----------5--|\\nB|------------------|--16-----9------|--0------------|--5--16--10-----|\\nG|----------2-------|----------------|-----------11--|--8-------------|\\nD|------14------4---|-------------1--|--9--7-----13--|-----7---11-----|\\nA|--------------16--|---------16--7--|--------9------|----------------|\\nE|------------------|--9------7------|---------------|---------2------|\\n\\n'}, {'role': 'assistant', 'content': 'e|-----4-----4--|---------4-----|--9------------|------7------16--|\\nB|-----9--9-----|------------0--|---------------|--7--------------|\\nG|--9--9--------|--11-----------|---------------|----------4--13--|\\nD|-----2--6-----|---------9--7--|-----9---------|--11--9------9---|\\nA|--------------|---------------|---------------|-------------2---|\\nE|-----0--2-----|--9---4--------|--------14-----|--11--14---------|\\n'}]\n"
     ]
    }
   ],
   "source": [
    "key = get_random_key()\n",
    "table = generate_random_tab(key=key, measures=96)\n",
    "tab_table = str_table_to_tab(table)\n",
    "for i in range(0, len(tab_table), 8):\n",
    "    tab = tab_to_str(tab_table[i:i+8])\n",
    "    print(generate_messages(key, tab))"
   ]
  },
  {
   "cell_type": "code",
   "execution_count": 53,
   "metadata": {},
   "outputs": [
    {
     "data": {
      "text/plain": [
       "96"
      ]
     },
     "execution_count": 53,
     "metadata": {},
     "output_type": "execute_result"
    }
   ],
   "source": [
    "len(str_table_to_tab(tab))"
   ]
  },
  {
   "cell_type": "code",
   "execution_count": 60,
   "metadata": {},
   "outputs": [
    {
     "name": "stderr",
     "output_type": "stream",
     "text": [
      "100%|██████████| 8000/8000 [1:27:16<00:00,  1.53it/s]\n"
     ]
    }
   ],
   "source": [
    "import json\n",
    "def generare_dataset(ds_len:int):\n",
    "    with open(\"dataset.jsonl\", \"w\") as f:\n",
    "        for _ in tqdm(range(ds_len)):\n",
    "            try:\n",
    "                key = get_random_key()\n",
    "                table = generate_random_tab(key=key, measures=96)\n",
    "                tab_table = str_table_to_tab(table)\n",
    "                for i in range(0, len(tab_table), 8):\n",
    "                    tab = tab_to_str(tab_table[i:i+8])\n",
    "                    messages = generate_messages(key, tab)\n",
    "                    json.dump(messages, f)\n",
    "                    f.write(\"\\n\")\n",
    "            except:\n",
    "                continue\n",
    "\n",
    "\n",
    "generare_dataset(8000)"
   ]
  },
  {
   "cell_type": "code",
   "execution_count": 68,
   "metadata": {},
   "outputs": [
    {
     "name": "stdout",
     "output_type": "stream",
     "text": [
      "Train size: 86400, Test size: 9600\n"
     ]
    }
   ],
   "source": [
    "# load the dataset and split it into train and test\n",
    "\n",
    "import random\n",
    "import json\n",
    "def split_train_test(dataset_path:str):\n",
    "    with open(dataset_path) as f:\n",
    "        dataset = [json.loads(line) for line in f]\n",
    "    random.shuffle(dataset)\n",
    "    split = int(len(dataset)*0.9)\n",
    "    train = dataset[:split]\n",
    "    test = dataset[split:]\n",
    "    \n",
    "    with open(\"train.jsonl\", \"w\") as f:\n",
    "        for line in train:\n",
    "            json.dump(line, f)\n",
    "            f.write(\"\\n\")\n",
    "\n",
    "    with open(\"test.jsonl\", \"w\") as f:\n",
    "        for line in test:\n",
    "            json.dump(line, f)\n",
    "            f.write(\"\\n\")\n",
    "    print(f\"Train size: {len(train)}, Test size: {len(test)}\")\n",
    "\n",
    "split_train_test(\"dataset.jsonl\")\n",
    "\n"
   ]
  },
  {
   "cell_type": "code",
   "execution_count": 69,
   "metadata": {},
   "outputs": [
    {
     "name": "stdout",
     "output_type": "stream",
     "text": [
      "6RxPP2v5jDmGeRTQfH81KYM0plRVPhyP\n"
     ]
    }
   ],
   "source": [
    "import os\n",
    "import json\n",
    "api_keys = json.load(open(\"api_keys.json\"))\n",
    "print(api_keys[\"MISTRAL_API_KEY\"])\n",
    "os.environ[\"WANDB_API_KEY\"] = api_keys[\"WANDB_API_KEY\"]\n",
    "os.environ[\"MISTRAL_API_KEY\"] = api_keys[\"MISTRAL_API_KEY\"]"
   ]
  },
  {
   "cell_type": "code",
   "execution_count": 70,
   "metadata": {},
   "outputs": [
    {
     "name": "stdout",
     "output_type": "stream",
     "text": [
      "6RxPP2v5jDmGeRTQfH81KYM0plRVPhyP\n"
     ]
    }
   ],
   "source": [
    "from mistralai.client import MistralClient\n",
    "\n",
    "api_key = os.environ.get(\"MISTRAL_API_KEY\")\n",
    "print(api_key)\n",
    "client = MistralClient(api_key=api_key)\n"
   ]
  },
  {
   "cell_type": "code",
   "execution_count": 71,
   "metadata": {},
   "outputs": [],
   "source": [
    "\n",
    "with open(\"train.jsonl\", \"rb\") as f:\n",
    "    guitar_generator_train = client.files.create(file=(\"guitar_generator_train.jsonl\", f))\n",
    "with open(\"test.jsonl\", \"rb\") as f:\n",
    "    guitar_generator_eval = client.files.create(file=(\"guitar_generator_eval.jsonl\", f))"
   ]
  },
  {
   "cell_type": "code",
   "execution_count": 72,
   "metadata": {},
   "outputs": [],
   "source": [
    "from mistralai.models.jobs import WandbIntegrationIn, TrainingParameters\n",
    "\n",
    "wandb_api_key = os.environ.get(\"WANDB_API_KEY\")\n",
    "\n",
    "created_jobs = client.jobs.create(\n",
    "    model=\"open-mistral-7b\",\n",
    "    training_files=[guitar_generator_train.id],\n",
    "    validation_files=[guitar_generator_eval.id],\n",
    "    hyperparameters=TrainingParameters(\n",
    "        training_steps=300,\n",
    "        learning_rate=0.0001,\n",
    "    ),\n",
    "    integrations=[\n",
    "        WandbIntegrationIn(\n",
    "            project=\"Fine-tuning\",\n",
    "            run_name=\"Second run\",\n",
    "            api_key=wandb_api_key,\n",
    "        ).dict()\n",
    "    ]\n",
    ")"
   ]
  },
  {
   "cell_type": "code",
   "execution_count": 73,
   "metadata": {},
   "outputs": [
    {
     "name": "stdout",
     "output_type": "stream",
     "text": [
      "b5caa7c6-d99f-4fa2-a6ce-f000998e306a\n"
     ]
    }
   ],
   "source": [
    "jobs = client.jobs.list()\n",
    "print(jobs.data[0].id)"
   ]
  },
  {
   "cell_type": "code",
   "execution_count": 74,
   "metadata": {},
   "outputs": [
    {
     "name": "stdout",
     "output_type": "stream",
     "text": [
      "id='b5caa7c6-d99f-4fa2-a6ce-f000998e306a' hyperparameters=TrainingParameters(training_steps=300, learning_rate=0.0001) fine_tuned_model='ft:open-mistral-7b:7e80780e:20240629:b5caa7c6' model='open-mistral-7b' status='SUCCESS' job_type='FT' created_at=1719667978 modified_at=1719669853 training_files=['0985dd75-72ce-4f87-bb2c-bfc281c35050'] validation_files=['477b195b-23d4-4b0b-b690-136f69cc4e1d'] object='job' integrations=[WandbIntegration(type='wandb', project='Fine-tuning', name=None, run_name='Second run')] events=[Event(name='status-updated', data={'status': 'SUCCESS'}, created_at=1719669853), Event(name='status-updated', data={'status': 'RUNNING'}, created_at=1719667979), Event(name='status-updated', data={'status': 'QUEUED'}, created_at=1719667978)] checkpoints=[Checkpoint(metrics=Metric(train_loss=0.90281, valid_loss=0.904977, valid_mean_token_accuracy=1.872515), step_number=300, created_at=1719669810), Checkpoint(metrics=Metric(train_loss=0.90722, valid_loss=0.908142, valid_mean_token_accuracy=1.876627), step_number=240, created_at=1719669455), Checkpoint(metrics=Metric(train_loss=0.919577, valid_loss=0.922202, valid_mean_token_accuracy=1.895005), step_number=180, created_at=1719669090), Checkpoint(metrics=Metric(train_loss=0.974956, valid_loss=0.977957, valid_mean_token_accuracy=1.969674), step_number=120, created_at=1719668730), Checkpoint(metrics=Metric(train_loss=1.0762, valid_loss=1.077332, valid_mean_token_accuracy=2.110131), step_number=60, created_at=1719668371)] estimated_start_time=None\n"
     ]
    }
   ],
   "source": [
    "retrieved_jobs = client.jobs.retrieve(jobs.data[0].id)\n",
    "print(retrieved_jobs)\n"
   ]
  },
  {
   "cell_type": "code",
   "execution_count": 75,
   "metadata": {},
   "outputs": [],
   "source": [
    "tab = generate_random_tab(\"A\", measures=4)"
   ]
  },
  {
   "cell_type": "code",
   "execution_count": 98,
   "metadata": {},
   "outputs": [
    {
     "data": {
      "text/plain": [
       "'ft:open-mistral-7b:7e80780e:20240629:b5caa7c6'"
      ]
     },
     "execution_count": 98,
     "metadata": {},
     "output_type": "execute_result"
    }
   ],
   "source": [
    "retrieved_jobs.fine_tuned_model"
   ]
  },
  {
   "cell_type": "code",
   "execution_count": 108,
   "metadata": {},
   "outputs": [],
   "source": [
    "from mistralai.models.chat_completion import ChatMessage\n",
    "import os\n",
    "import json\n",
    "api_keys = json.load(open(\"api_keys.json\"))\n",
    "os.environ[\"MISTRAL_API_KEY\"] = api_keys[\"MISTRAL_API_KEY\"]\n",
    "\n",
    "from mistralai.client import MistralClient\n",
    "\n",
    "api_key = os.environ.get(\"MISTRAL_API_KEY\")\n",
    "print(api_key)\n",
    "client = MistralClient(api_key=api_key)\n",
    "\n",
    "\n",
    "SYSTEM_PROMPT = \"\"\"\n",
    "You are a skilled guitar instructor and music theory expert. Generate the next four beats of a guitar tab based on the user's input.\n",
    "\n",
    "1. Review the first four beats and key provided by the user.\n",
    "2. Generate the next four beats that fit the specified key.\n",
    "\"\"\"\n",
    "\n",
    "USER_PROMPT = \"\"\"\n",
    "Key: {key}\n",
    "\n",
    "Tab: {tab}\n",
    "\"\"\"\n",
    "\n",
    "def correct_table(table:str):\n",
    "    table = str_table_to_tab(table)\n",
    "    for i in range(len(table)):\n",
    "        max_len = max([len(x) for x in table[i]])\n",
    "        for j in range(len(table[i])):\n",
    "            table[i][j] = table[i][j].rjust(max_len, \"-\")\n",
    "    table = tab_to_str(table)\n",
    "    return table\n",
    "\n",
    "def guitarstral_inference(tab:str, key:str):\n",
    "    user_messages = USER_PROMPT.format(key=key, tab=tab)\n",
    "    chat_response = client.chat(\n",
    "        model='ft:open-mistral-7b:7e80780e:20240629:b5caa7c6',\n",
    "        messages=[ChatMessage(role='system', content=SYSTEM_PROMPT), ChatMessage(role='user', content=user_messages)]\n",
    "    )\n",
    "    return correct_table(chat_response.choices[0].message.content)\n",
    "\n",
    "def generare_table(table:str, key:str, nb_beats:int):\n",
    "    tab_table = str_table_to_tab(table)\n",
    "    for _ in range(0, nb_beats, 4):\n",
    "        new_table = guitarstral_inference(table, key)\n",
    "        new_tab_table = str_table_to_tab(new_table)\n",
    "        tab_table += new_tab_table\n",
    "        table = new_table\n",
    "    return tab_table\n",
    "\n",
    "tab = generate_random_tab(\"A\", measures=4)\n",
    "\n",
    "t = generare_table(tab, \"A\", 12)"
   ]
  },
  {
   "cell_type": "code",
   "execution_count": 109,
   "metadata": {},
   "outputs": [
    {
     "name": "stdout",
     "output_type": "stream",
     "text": [
      "e|----------7-----|---------------|--10------------|---------7------|--12--10--10--16--|-----------------|-----7----------|-----4--7--12--|----------------|----------------|---------------|--0-------------|---------------|-------------9---|----------------|--10-------------|\n",
      "B|--10------------|---------------|------0--2------|----------------|----------10------|--10---------15--|----------------|---------------|-----12-----12--|-----12---------|---------------|----------------|---------------|------0----------|---------9--9---|------10--7------|\n",
      "G|--9---6---------|--2------------|----------------|--14-----6------|------2-------7---|--9-------1------|-----11--11-----|---------------|----------------|---------2--1---|---------------|--2--4----------|-----6---------|-----------------|----------------|--7--------------|\n",
      "D|--14---------9--|--7------------|---------14-----|--16------------|--11--14------12--|------12---------|-----11--11-----|---------------|-----11---------|--7------2--14--|---------------|-----12-----16--|-----9--11--0--|--16------4--16--|--16--4--4------|--12-------------|\n",
      "A|----------------|-----12-----7--|------4---------|----------------|--7---------------|-----------------|----------------|---------------|----------------|-----16-----9---|---------------|--0--12---------|---------------|------0---2------|--14-----0--14--|------0------12--|\n",
      "E|------16--------|---------5-----|---------12--9--|--5---------14--|------10--10------|--4----------16--|-----2----------|-----------4---|-----0----------|-----9----------|--2--14--------|--4--2----------|---------------|------14---------|------7--0------|--9--------------|\n",
      "\n"
     ]
    }
   ],
   "source": [
    "print(tab_to_str(t))"
   ]
  },
  {
   "cell_type": "code",
   "execution_count": 103,
   "metadata": {},
   "outputs": [
    {
     "name": "stdout",
     "output_type": "stream",
     "text": [
      "0\n",
      "4\n"
     ]
    }
   ],
   "source": [
    "for i in range(0, 5, 4):\n",
    "    print(i)"
   ]
  },
  {
   "cell_type": "code",
   "execution_count": 79,
   "metadata": {},
   "outputs": [
    {
     "name": "stdout",
     "output_type": "stream",
     "text": [
      "e|-----16---------|------12--16-----|--------2-----|--10------------|\n",
      "B|-----9----------|----------14--3--|-----7--------|---------------|\n",
      "G|--2------16-----|-----------------|--------------|---------------|\n",
      "D|---------9------|--16-------------|--------------|---------------|\n",
      "A|--7--16---------|------0----------|--------0-----|--12--4-----0--|\n",
      "E|-----14--16--7--|-----------------|--------------|---------------|\n",
      "\n"
     ]
    }
   ],
   "source": [
    "print(chat_response.choices[0].message.content)"
   ]
  },
  {
   "cell_type": "code",
   "execution_count": 39,
   "metadata": {},
   "outputs": [
    {
     "name": "stdout",
     "output_type": "stream",
     "text": [
      "e|------9----------|-----2----------|--7------16--4--|---------16------|\n",
      "B|---------2-------|-----9----------|-----2-------9--|-----10----------|\n",
      "G|--13-------------|-----14---------|---------4------|-----9-------14--|\n",
      "D|-----------------|----------------|--9----------2--|--7--------------|\n",
      "A|------4------14--|------------14--|--9--4-------5--|-------------12--|\n",
      "E|---------14------|----------------|-----14---------|--2--------------|\n"
     ]
    }
   ],
   "source": [
    "print(tab)"
   ]
  },
  {
   "cell_type": "code",
   "execution_count": 95,
   "metadata": {},
   "outputs": [
    {
     "name": "stdout",
     "output_type": "stream",
     "text": [
      "e|----------------|-----------------|----14------1-------|-------------14--|\n",
      "B|-------9-----0--|-----------------|----6---14------4---|--9--0-----------|\n",
      "G|----------4-----|---4---8---------|--15--------10--11--|-------------8---|\n",
      "D|----------3-----|-------16--1-----|------------1---6---|-----------------|\n",
      "A|----------------|---11------------|----------------6---|---------14------|\n",
      "E|----1--------9--|-----------------|--------16--7-------|-----13------4---|\n",
      "\n"
     ]
    }
   ],
   "source": [
    "\n",
    "\n",
    "\n",
    "print(correct_table(test))"
   ]
  },
  {
   "cell_type": "code",
   "execution_count": 91,
   "metadata": {},
   "outputs": [],
   "source": [
    "test = \"\"\"\n",
    "e|-----10--9------|----------------|------------16--|----5--14---------|\n",
    "B|------------10--|-------------3--|-------------7--|------7------15--|\n",
    "G|------------14--|------11--------|-------------1--|------------------|\n",
    "D|------------11--|--12------7--9--|--7---11-----2--|---2--------------|\n",
    "A|-----4------12--|----------2--0--|--2---16--------|----------12--9---|\n",
    "E|-----16---------|------5---------|--12--10--------|------12------12--|\"\"\""
   ]
  },
  {
   "cell_type": "code",
   "execution_count": 81,
   "metadata": {},
   "outputs": [],
   "source": [
    "from tabs_MIDI.read_tabs_app import Tabs\n",
    "from tabs_MIDI.midi_generator import Track\n",
    "import os\n",
    "import time\n",
    "\n",
    "def convert_to_midi(tablature:str, tempo):\n",
    "    t = Tabs(tablature.split(\"\\n\"))\n",
    "    t.preprocess()\n",
    "    t.displayTabs()\n",
    "    t.convertNotes()\n",
    "\n",
    "    f_name = f\"tab_{time.time()}.mid\"\n",
    "    f_local_path = f\"./{f_name}\"\n",
    "    outputTrack = Track(int(tempo))\n",
    "    outputTrack.midiGenerator(t.a, path=f_local_path)\n",
    "    \n",
    "    command = f\"timidity {f_local_path}\"\n",
    "    os.system(command)\n",
    "    return "
   ]
  },
  {
   "cell_type": "code",
   "execution_count": 82,
   "metadata": {},
   "outputs": [
    {
     "name": "stdout",
     "output_type": "stream",
     "text": [
      "\n",
      "\n",
      "\n",
      "-------10---9------------------------------------16--------5--14-----------\n",
      "--------------10-----------------3----------------7---------7-------15----\n",
      "--------------14----------11-----------------------1----------------------\n",
      "--------------11------12-------7--9-----7---11------2------2---------------\n",
      "-------4------12--------------2--0-----2---16--------------------12---9----\n",
      "-------16-----------------5------------12---10----------------12-------12----\n",
      "Playing ./tab_1719767107.8283079.mid\n",
      "MIDI file: ./tab_1719767107.8283079.mid\n",
      "Format: 1  Tracks: 2  Divisions: 960\n",
      "_/tab_1719767107_8283079.ogg: No such file or directory\n",
      "Playing time: ~8 seconds\n",
      "Notes cut: 0\n",
      "Notes lost totally: 0\n"
     ]
    }
   ],
   "source": [
    "convert_to_midi(test, 120)"
   ]
  },
  {
   "cell_type": "code",
   "execution_count": 34,
   "metadata": {},
   "outputs": [
    {
     "name": "stdout",
     "output_type": "stream",
     "text": [
      "\n",
      "\n",
      "\n",
      "-------10---9--------------------------------------16------5--14-----------\n",
      "--------------10-----------------3----------------7--------7-------15----"
     ]
    },
    {
     "ename": "IndexError",
     "evalue": "list index out of range",
     "output_type": "error",
     "traceback": [
      "\u001b[0;31m---------------------------------------------------------------------------\u001b[0m",
      "\u001b[0;31mIndexError\u001b[0m                                Traceback (most recent call last)",
      "Cell \u001b[0;32mIn[34], line 1\u001b[0m\n\u001b[0;32m----> 1\u001b[0m \u001b[43mconvert_to_midi\u001b[49m\u001b[43m(\u001b[49m\u001b[43mchat_response\u001b[49m\u001b[38;5;241;43m.\u001b[39;49m\u001b[43mchoices\u001b[49m\u001b[43m[\u001b[49m\u001b[38;5;241;43m0\u001b[39;49m\u001b[43m]\u001b[49m\u001b[38;5;241;43m.\u001b[39;49m\u001b[43mmessage\u001b[49m\u001b[38;5;241;43m.\u001b[39;49m\u001b[43mcontent\u001b[49m\u001b[43m,\u001b[49m\u001b[43m \u001b[49m\u001b[38;5;241;43m120\u001b[39;49m\u001b[43m)\u001b[49m\n",
      "Cell \u001b[0;32mIn[23], line 9\u001b[0m, in \u001b[0;36mconvert_to_midi\u001b[0;34m(tablature, tempo)\u001b[0m\n\u001b[1;32m      7\u001b[0m t \u001b[38;5;241m=\u001b[39m Tabs(tablature\u001b[38;5;241m.\u001b[39msplit(\u001b[38;5;124m\"\u001b[39m\u001b[38;5;130;01m\\n\u001b[39;00m\u001b[38;5;124m\"\u001b[39m))\n\u001b[1;32m      8\u001b[0m t\u001b[38;5;241m.\u001b[39mpreprocess()\n\u001b[0;32m----> 9\u001b[0m \u001b[43mt\u001b[49m\u001b[38;5;241;43m.\u001b[39;49m\u001b[43mdisplayTabs\u001b[49m\u001b[43m(\u001b[49m\u001b[43m)\u001b[49m\n\u001b[1;32m     10\u001b[0m t\u001b[38;5;241m.\u001b[39mconvertNotes()\n\u001b[1;32m     12\u001b[0m f_name \u001b[38;5;241m=\u001b[39m \u001b[38;5;124mf\u001b[39m\u001b[38;5;124m\"\u001b[39m\u001b[38;5;124mtab_\u001b[39m\u001b[38;5;132;01m{\u001b[39;00mtime\u001b[38;5;241m.\u001b[39mtime()\u001b[38;5;132;01m}\u001b[39;00m\u001b[38;5;124m.mid\u001b[39m\u001b[38;5;124m\"\u001b[39m\n",
      "File \u001b[0;32m~/Documents/hackathon_mistral/tabs_MIDI/read_tabs_app.py:40\u001b[0m, in \u001b[0;36mTabs.displayTabs\u001b[0;34m(self)\u001b[0m\n\u001b[1;32m     38\u001b[0m \u001b[38;5;28;01mfor\u001b[39;00m i \u001b[38;5;129;01min\u001b[39;00m \u001b[38;5;28mrange\u001b[39m(\u001b[38;5;28mlen\u001b[39m(\u001b[38;5;28mself\u001b[39m\u001b[38;5;241m.\u001b[39ma)):\n\u001b[1;32m     39\u001b[0m     \u001b[38;5;28;01mfor\u001b[39;00m j \u001b[38;5;129;01min\u001b[39;00m \u001b[38;5;28mrange\u001b[39m(\u001b[38;5;28mlen\u001b[39m(\u001b[38;5;28mself\u001b[39m\u001b[38;5;241m.\u001b[39ma[\u001b[38;5;241m0\u001b[39m])):\n\u001b[0;32m---> 40\u001b[0m         \u001b[38;5;28mprint\u001b[39m(\u001b[38;5;28;43mself\u001b[39;49m\u001b[38;5;241;43m.\u001b[39;49m\u001b[43ma\u001b[49m\u001b[43m[\u001b[49m\u001b[43mi\u001b[49m\u001b[43m]\u001b[49m\u001b[43m[\u001b[49m\u001b[43mj\u001b[49m\u001b[43m]\u001b[49m,end\u001b[38;5;241m=\u001b[39m\u001b[38;5;124m\"\u001b[39m\u001b[38;5;124m\"\u001b[39m)\n\u001b[1;32m     41\u001b[0m     \u001b[38;5;28mprint\u001b[39m()\n",
      "\u001b[0;31mIndexError\u001b[0m: list index out of range"
     ]
    }
   ],
   "source": [
    "convert_to_midi(chat_response.choices[0].message.content, 120)"
   ]
  },
  {
   "cell_type": "code",
   "execution_count": 94,
   "metadata": {},
   "outputs": [],
   "source": [
    "test=\"\"\"e|--------------|----------------|--14------1-------|-------------14--|\n",
    "B|-----9-----0--|----------------|--6---14------4---|--9--0-----------|\n",
    "G|--------4-----|--4---8---------|--15--------10--11--|-------------8---|\n",
    "D|--------3-----|------16--1-----|-----------1---6---|-----------------|\n",
    "A|----------------|---11------------|---------------6---|---------14------|\n",
    "E|--1--------9--|----------------|------16--7-------|-----13------4---|\n",
    "\"\"\""
   ]
  },
  {
   "cell_type": "code",
   "execution_count": null,
   "metadata": {},
   "outputs": [],
   "source": [
    "def str_tabs_to_tab(tabs:str):\n",
    "    # Split the input into lines\n",
    "    lines = tabs.strip().split('\\n')\n",
    "    \n",
    "    \n",
    "    lines = [l.split(\"|\")[1:-1] for l in lines]\n",
    "    # Initialize an array to hold the beats\n",
    "    beats = []\n",
    "    for i in range(len(lines[0])):\n",
    "        beat=[]\n",
    "        for j in range(6):\n",
    "            beat.append(lines[j][i])\n",
    "        beats.append(beat)\n",
    "    \n",
    "    return beats\n",
    "    \n",
    "t = str_tabs_to_tab(test)"
   ]
  },
  {
   "cell_type": "code",
   "execution_count": null,
   "metadata": {},
   "outputs": [],
   "source": [
    "def tab_to_str(t):\n",
    "    tab = \"\"\n",
    "    keys = ['e', 'B', 'G' , 'D' ,'A' , 'E']\n",
    "    for i in range(6):\n",
    "        tab+=keys[i] + \"|\"\n",
    "        for j in range(len(t)):\n",
    "            tab += t[j][i] + \"|\"\n",
    "        tab += \"\\n\"\n",
    "    return tab\n",
    "\n",
    "print(tab_to_str(t[2:]))"
   ]
  },
  {
   "cell_type": "code",
   "execution_count": null,
   "metadata": {},
   "outputs": [],
   "source": [
    "convert_to_midi(test, 90)"
   ]
  }
 ],
 "metadata": {
  "kernelspec": {
   "display_name": "hackathon_mistral",
   "language": "python",
   "name": "python3"
  },
  "language_info": {
   "codemirror_mode": {
    "name": "ipython",
    "version": 3
   },
   "file_extension": ".py",
   "mimetype": "text/x-python",
   "name": "python",
   "nbconvert_exporter": "python",
   "pygments_lexer": "ipython3",
   "version": "3.9.18"
  }
 },
 "nbformat": 4,
 "nbformat_minor": 2
}
